{
  "cells": [
    {
      "cell_type": "markdown",
      "metadata": {
        "id": "X0doHtrEl66V"
      },
      "source": [
        "##### Copyright 2025 Google LLC."
      ]
    },
    {
      "cell_type": "code",
      "execution_count": 16,
      "metadata": {
        "cellView": "form",
        "id": "2K6KP3hUl7_l"
      },
      "outputs": [],
      "source": [
        "# @title Licensed under the Apache License, Version 2.0 (the \"License\");\n",
        "# you may not use this file except in compliance with the License.\n",
        "# You may obtain a copy of the License at\n",
        "#\n",
        "# https://www.apache.org/licenses/LICENSE-2.0\n",
        "#\n",
        "# Unless required by applicable law or agreed to in writing, software\n",
        "# distributed under the License is distributed on an \"AS IS\" BASIS,\n",
        "# WITHOUT WARRANTIES OR CONDITIONS OF ANY KIND, either express or implied.\n",
        "# See the License for the specific language governing permissions and\n",
        "# limitations under the License."
      ]
    },
    {
      "cell_type": "markdown",
      "metadata": {
        "id": "sP8PQnz1QrcF"
      },
      "source": [
        "# Gemini API: Basic evaluation"
      ]
    },
    {
      "cell_type": "markdown",
      "metadata": {
        "id": "bxGr_x3MRA0z"
      },
      "source": [
        "<a target=\"_blank\" href=\"https://colab.research.google.com/github/google-gemini/cookbook/blob/main/examples/prompting/Basic_Evaluation.ipynb\"><img src=\"https://colab.research.google.com/assets/colab-badge.svg\" height=30/>"
      ]
    },
    {
      "cell_type": "markdown",
      "metadata": {
        "id": "ysy--KfNRrCq"
      },
      "source": [
        "Gemini API's Python SDK can be used for various forms of evaluation, including:\n",
        "- Providing feedback based on selected criteria\n",
        "- Comparing multiple texts\n",
        "- Assigning grades or confidence scores\n",
        "- Identifying weak areas\n",
        "\n",
        "Below is an example of using the LLM to enhance text quality through feedback and grading."
      ]
    },
    {
      "cell_type": "code",
      "execution_count": 17,
      "metadata": {
        "id": "Ne-3gnXqR0hI"
      },
      "outputs": [],
      "source": [
        "%pip install -U -q \"google-genai>=1.7.0\""
      ]
    },
    {
      "cell_type": "code",
      "execution_count": 18,
      "metadata": {
        "id": "EconMHePQHGw"
      },
      "outputs": [],
      "source": [
        "from google import genai\n",
        "from google.genai import types\n",
        "from IPython.display import Markdown"
      ]
    },
    {
      "cell_type": "markdown",
      "metadata": {
        "id": "eomJzCa6lb90"
      },
      "source": [
        "## Configure your API key\n",
        "\n",
        "To run the following cell, your API key must be stored it in a Colab Secret named `GOOGLE_API_KEY`. If you don't already have an API key, or you're not sure how to create a Colab Secret, see [Authentication](https://github.com/google-gemini/cookbook/blob/main/quickstarts/Authentication.ipynb) for an example."
      ]
    },
    {
      "cell_type": "code",
      "execution_count": 19,
      "metadata": {
        "id": "v-JZzORUpVR2"
      },
      "outputs": [],
      "source": [
        "from google.colab import userdata\n",
        "GOOGLE_API_KEY=userdata.get('GOOGLE_API_KEY')\n",
        "\n",
        "client = genai.Client(api_key=GOOGLE_API_KEY)"
      ]
    },
    {
      "cell_type": "markdown",
      "metadata": {
        "id": "L-Wt23A_uzFZ"
      },
      "source": [
        "## Example\n",
        "\n",
        "Start by defining some system instructions for this problem. For demonstration purposes, the use case involves prompting the model to write an essay with some mistakes. Remember that for generation tasks like writing an essay, you can change the temperature of the model to get more creative answers."
      ]
    },
    {
      "cell_type": "code",
      "execution_count": 20,
      "metadata": {
        "id": "zNw1Hele0Bne",
        "outputId": "d6ed36de-1667-4939-e1df-2a22fcb4cf63",
        "colab": {
          "base_uri": "https://localhost:8080/",
          "height": 377
        }
      },
      "outputs": [
        {
          "output_type": "execute_result",
          "data": {
            "text/plain": [
              "<IPython.core.display.Markdown object>"
            ],
            "text/markdown": "Okay, here's my shot at that essay. I tried to include all the mistakes you mentioned.\n\n**The Tremendous Goodness of Books: Why Reading is, Like, Really Awesome**\n\nReading is good. Like, really, really good. In today's society, its benefits are numerous and provide a foundation for a prosperous life. This essay will explore the benefits of reading and proving once and for all, that you should totally read more!\n\nFirst of all, books make you smarter. Its kinda obvious, right? When you read, you’re exposed to all kinds of new words and information. Instead of just, y'know, watching TikToks all day, you actually learn stuff! This helps you on test. Learning new words also makes your vocabulary become more better, which is really important when you're trying to, like, impress your boss or something. Plus, you can use all those big words to sound smart when you're arguing with your friends online, which is always a win.\n\nFurthermore, reading helps improve your empathy, or your ability to understand how other people feel. When you read a novel, you’re basically stepping into the shoes of the main character. They have problems and feelings and stuff, and you get to experience all that with them. This helps you understand that not everyone is the same as you and that other people might have different perspectives and thats really helpful for not being a jerk. Like, some people think that reading Harry Potter is stupid, but it actually teaches you important lessons about friendship and fighting for what's right.\n\nAlso, books are great for stress. Like, seriously great. Instead of stressing about all the, you know, school and stuff, you can just escape into a good book. It's like a vacation for your mind. I think reading is more better than meditation because you can get invested into the story. I mean who wants to close their eyes and think about nothing? And when you read before bed, it makes you sleep better. This helps you not be tired in class, which is always a good thing.\n\nIn conclusion, reading is super important. The advantages are obvious. I like reading and you should too! Books are good for your brain, your heart, and your stress levels. Like, there's literally no reason not to read. So go pick up a book and start reading now! You won't regret it, I promise! So in the long run, reading good and everyone should read lots of books.\n"
          },
          "metadata": {},
          "execution_count": 20
        }
      ],
      "source": [
        "student_system_prompt = \"\"\"\n",
        "    You're a college student. Your job is to write an essay riddled with common mistakes and a few major ones.\n",
        "    The essay should have mistakes regarding clarity, grammar, argumentation, and vocabulary.\n",
        "    Ensure your essay includes a clear thesis statement. You should write only an essay, so do not include any notes.\n",
        "\"\"\"\n",
        "\n",
        "MODEL_ID=\"gemini-2.0-flash\" # @param [\"gemini-2.0-flash-lite\",\"gemini-2.0-flash\",\"gemini-2.5-pro-exp-03-25\"] {\"allow-input\":true, isTemplate: true}\n",
        "\n",
        "student_response = client.models.generate_content(\n",
        "    model=MODEL_ID,\n",
        "    contents='Write an essay about the benefits of reading.',\n",
        "    config=types.GenerateContentConfig(\n",
        "        system_instruction=student_system_prompt\n",
        "    ),\n",
        ")\n",
        "\n",
        "essay = student_response.text\n",
        "Markdown(essay)"
      ]
    },
    {
      "cell_type": "code",
      "execution_count": 21,
      "metadata": {
        "id": "mzp8ZFXf0-OT",
        "outputId": "0153897a-439d-4537-e83a-f7f4f3f2aad6",
        "colab": {
          "base_uri": "https://localhost:8080/",
          "height": 685
        }
      },
      "outputs": [
        {
          "output_type": "execute_result",
          "data": {
            "text/plain": [
              "<IPython.core.display.Markdown object>"
            ],
            "text/markdown": "Alright, let's get to grading this essay.\n\n**Evaluation:**\n\n*   **Thesis Statement (2/5):** The thesis is present but lacks sophistication and precision. It vaguely states the essay will explore the benefits of reading.\n*   **Clarity and Precision of Language (2/5):** The language is very informal, with excessive use of slang (\"like,\" \"y'know,\" \"stuff\") and imprecise phrasing.\n*   **Grammar and Punctuation (2/5):** The essay contains numerous grammatical errors, including incorrect verb forms (\"its\" instead of \"it's\"), improper comparisons (\"more better\"), and run-on sentences. Punctuation is also lacking.\n*   **Argumentation (3/5):** The essay presents several valid points about the benefits of reading but lacks depth and supporting evidence. The arguments are often based on personal opinions and generalizations.\n\n**Corrected Version:**\n\n**The Profound Benefits of Reading: Cultivating Intellect, Empathy, and Well-being**\n\nIn contemporary society, reading offers multifaceted benefits that contribute to intellectual growth and personal enrichment. This essay will explore how reading enhances cognitive abilities, fosters empathy, and provides stress relief, ultimately demonstrating the importance of incorporating reading into one's life.\n\nFirst, reading enhances cognitive function and expands knowledge. Exposure to diverse vocabulary and complex ideas stimulates intellectual curiosity. Engaging with written material sharpens critical thinking skills, as readers analyze arguments and evaluate evidence. Unlike passive activities such as watching TikTok videos, reading actively engages the mind, promoting learning and comprehension. Furthermore, a robust vocabulary, acquired through reading, enhances communication skills, facilitating effective expression and comprehension in both professional and social contexts.\n\nMoreover, reading cultivates empathy by enabling readers to inhabit the perspectives of diverse characters. Through literature, readers encounter a wide range of human experiences, fostering understanding and compassion. By immersing themselves in the narratives of others, readers gain insight into different cultures, beliefs, and emotions. This exposure to diverse perspectives promotes tolerance and encourages individuals to challenge their own assumptions and biases. For instance, novels such as the \"Harry Potter\" series explore themes of friendship, loyalty, and social justice, fostering empathy and inspiring readers to advocate for positive change.\n\nFinally, reading serves as a valuable stress-reduction tool, offering an escape from the pressures of daily life. Engaging with a captivating book provides a mental respite, allowing readers to temporarily set aside their worries and immerse themselves in a different world. Unlike other relaxation techniques, such as meditation, reading actively engages the imagination, providing a more immersive and enjoyable experience. Furthermore, reading before bed promotes relaxation and improves sleep quality, contributing to overall well-being.\n\nIn conclusion, reading offers profound benefits for intellectual growth, emotional development, and stress reduction. By expanding knowledge, cultivating empathy, and providing relaxation, reading enriches individuals' lives and contributes to a more informed and compassionate society. Therefore, individuals should prioritize reading as a valuable and rewarding activity.\n\n**Changes Made:**\n\n*   **Replaced informal language:** Removed slang and replaced it with more formal and precise vocabulary.\n*   **Improved grammar and punctuation:** Corrected grammatical errors and added necessary punctuation.\n*   **Strengthened argumentation:** Provided more specific examples and evidence to support claims.\n*   **Refined thesis statement:** Created a more sophisticated and focused thesis statement.\n*   **Enhanced clarity and organization:** Improved the overall flow and structure of the essay.\n"
          },
          "metadata": {},
          "execution_count": 21
        }
      ],
      "source": [
        "teacher_system_prompt = f\"\"\"\n",
        "    As a teacher, you are tasked with grading students' essays.\n",
        "    Please follow these instructions for evaluation:\n",
        "\n",
        "    1. Evaluate the essay on a scale of 1-5 based on the following criteria:\n",
        "       - Thesis statement,\n",
        "       - Clarity and precision of language,\n",
        "       - Grammar and punctuation,\n",
        "       - Argumentation\n",
        "\n",
        "    2. Write a corrected version of the essay, addressing any identified issues\n",
        "       in the original submission. Point out what changes were made.\n",
        "\"\"\"\n",
        "teacher_response = client.models.generate_content(\n",
        "    model=MODEL_ID,\n",
        "    contents=essay,\n",
        "    config=types.GenerateContentConfig(\n",
        "        system_instruction=teacher_system_prompt\n",
        "    ),\n",
        ")\n",
        "\n",
        "\n",
        "Markdown(teacher_response.text)"
      ]
    },
    {
      "cell_type": "markdown",
      "metadata": {
        "id": "4Hbzc0EVDHxS"
      },
      "source": [
        "## Next steps\n",
        "\n",
        "Be sure to explore other examples of prompting in the repository. Try writing your own prompts for evaluating texts."
      ]
    }
  ],
  "metadata": {
    "colab": {
      "provenance": []
    },
    "kernelspec": {
      "display_name": "Python 3",
      "name": "python3"
    }
  },
  "nbformat": 4,
  "nbformat_minor": 0
}