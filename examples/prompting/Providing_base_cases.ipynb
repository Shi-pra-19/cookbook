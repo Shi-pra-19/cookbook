{
  "cells": [
    {
      "cell_type": "markdown",
      "metadata": {
        "id": "gy3KpnNx_Jl4"
      },
      "source": [
        "##### Copyright 2025 Google LLC."
      ]
    },
    {
      "cell_type": "code",
      "execution_count": 12,
      "metadata": {
        "cellView": "form",
        "id": "fKqk8LWo_TCU"
      },
      "outputs": [],
      "source": [
        "# @title Licensed under the Apache License, Version 2.0 (the \"License\");\n",
        "# you may not use this file except in compliance with the License.\n",
        "# You may obtain a copy of the License at\n",
        "#\n",
        "# https://www.apache.org/licenses/LICENSE-2.0\n",
        "#\n",
        "# Unless required by applicable law or agreed to in writing, software\n",
        "# distributed under the License is distributed on an \"AS IS\" BASIS,\n",
        "# WITHOUT WARRANTIES OR CONDITIONS OF ANY KIND, either express or implied.\n",
        "# See the License for the specific language governing permissions and\n",
        "# limitations under the License."
      ]
    },
    {
      "cell_type": "markdown",
      "metadata": {
        "id": "sP8PQnz1QrcF"
      },
      "source": [
        "# Gemini API: Providing base cases"
      ]
    },
    {
      "cell_type": "markdown",
      "metadata": {
        "id": "bxGr_x3MRA0z"
      },
      "source": [
        "<a target=\"_blank\" href=\"https://colab.research.google.com/github/google-gemini/cookbook/blob/main/examples/prompting/Providing_base_cases.ipynb\"><img src=\"https://colab.research.google.com/assets/colab-badge.svg\" height=30/></a>"
      ]
    },
    {
      "cell_type": "markdown",
      "metadata": {
        "id": "ysy--KfNRrCq"
      },
      "source": [
        "LLMs require specific instructions to provide the expected results. Because of this, it is vital to ensure that the model knows how it should behave when it lacks information or when it should not answer a given query and provide a default response instead."
      ]
    },
    {
      "cell_type": "code",
      "execution_count": 13,
      "metadata": {
        "id": "Ne-3gnXqR0hI"
      },
      "outputs": [],
      "source": [
        "%pip install -U -q \"google-genai>=1.7.0\""
      ]
    },
    {
      "cell_type": "code",
      "execution_count": 14,
      "metadata": {
        "id": "EconMHePQHGw"
      },
      "outputs": [],
      "source": [
        "from google import genai\n",
        "from google.genai import types\n",
        "from IPython.display import Markdown, display"
      ]
    },
    {
      "cell_type": "markdown",
      "metadata": {
        "id": "eomJzCa6lb90"
      },
      "source": [
        "## Configure your API key\n",
        "\n",
        "To run the following cell, your API key must be stored it in a Colab Secret named `GOOGLE_API_KEY`. If you don't already have an API key, or you're not sure how to create a Colab Secret, see [Authentication](https://github.com/google-gemini/cookbook/blob/main/quickstarts/Authentication.ipynb) for an example."
      ]
    },
    {
      "cell_type": "code",
      "execution_count": 15,
      "metadata": {
        "id": "v-JZzORUpVR2"
      },
      "outputs": [],
      "source": [
        "from google.colab import userdata\n",
        "GOOGLE_API_KEY=userdata.get('GOOGLE_API_KEY')\n",
        "\n",
        "client = genai.Client(api_key=GOOGLE_API_KEY)"
      ]
    },
    {
      "cell_type": "markdown",
      "metadata": {
        "id": "FMne_rcZmz1X"
      },
      "source": [
        "## Examples"
      ]
    },
    {
      "cell_type": "markdown",
      "metadata": {
        "id": "0pZ-S0f8_mbQ"
      },
      "source": [
        "Let's go ahead and define the model, as well as give the model a template for how it should answer the question."
      ]
    },
    {
      "cell_type": "code",
      "execution_count": 16,
      "metadata": {
        "id": "DLTRf9VgihN8"
      },
      "outputs": [],
      "source": [
        "MODEL_ID=\"gemini-2.5-flash-preview-05-20\" # @param [\"gemini-2.5-flash-preview-05-20\", \"gemini-2.5-pro-preview-05-06\"] {\"allow-input\":true, isTemplate: true}\n",
        "\n"
      ]
    },
    {
      "cell_type": "code",
      "execution_count": 17,
      "metadata": {
        "id": "O_q8ak-BU9kJ"
      },
      "outputs": [],
      "source": [
        "instructions = \"\"\"\n",
        "     You are an assistant that helps tourists around the world to plan their vacation.\n",
        "     Your responsibilities are:\n",
        "     1. Helping book the hotel.\n",
        "     2. Recommending restaurants.\n",
        "     3. Warning about potential dangers.\n",
        "\n",
        "     If other request is asked return \"I cannot help with this request.\"\n",
        "\"\"\""
      ]
    },
    {
      "cell_type": "code",
      "execution_count": 18,
      "metadata": {
        "id": "8oS9LnnXXedG"
      },
      "outputs": [],
      "source": [
        "on_topic_response = client.models.generate_content(\n",
        "    model=MODEL_ID,\n",
        "    contents=\"What should I look out for when I'm going to the beaches in San Diego?\",\n",
        "    config=types.GenerateContentConfig(\n",
        "        system_instruction=instructions\n",
        "  ),\n",
        "\n",
        ")\n",
        "\n",
        "off_topic_response = client.models.generate_content(\n",
        "    model=MODEL_ID,\n",
        "    contents=\"What bowling places do you recommend in Moscow?\",\n",
        "    config=types.GenerateContentConfig(\n",
        "        system_instruction=instructions\n",
        "  ),\n",
        "\n",
        ")"
      ]
    },
    {
      "cell_type": "code",
      "execution_count": 19,
      "metadata": {
        "id": "1k6LyJQYm1KM",
        "outputId": "5886f2ff-ae42-43da-ce7c-f5803bd72b76",
        "colab": {
          "base_uri": "https://localhost:8080/",
          "height": 516
        }
      },
      "outputs": [
        {
          "output_type": "display_data",
          "data": {
            "text/plain": [
              "<IPython.core.display.Markdown object>"
            ],
            "text/markdown": "**ON TOPIC:** When you're going to the beaches in San Diego, here are some potential dangers to be aware of:\n\n1.  **Rip Currents:** These are strong, narrow currents of water moving directly away from the shore, which can pull even strong swimmers out to sea.\n    *   **Warning Signs:** Look for breaks in the incoming wave pattern, foamy water, or a line of seaweed or debris moving steadily out to sea.\n    *   **If Caught:** Don't fight the current. Swim parallel to the shore until you are out of the current, then swim back to the beach. If you can't swim to shore, float or tread water and wave for help.\n2.  **Sun Exposure:** The California sun can be intense, even on cloudy days.\n    *   **Danger:** Sunburn, heatstroke, and long-term skin damage.\n    *   **Protection:** Use broad-spectrum sunscreen with at least SPF 30, wear a wide-brimmed hat, sunglasses, and protective clothing. Seek shade, especially between 10 AM and 4 PM. Stay hydrated by drinking plenty of water.\n3.  **Marine Life:** While rare, certain marine life can pose a risk.\n    *   **Stingrays:** Often bury themselves in the sand in shallow water. Stepping on one can result in a painful sting.\n    *   **Prevention:** Do the \"stingray shuffle\" by shuffling your feet along the bottom when wading in shallow water to scare them away.\n    *   **Jellyfish:** Can sometimes be present, and their stings can be irritating.\n    *   **Leopard Sharks:** Are commonly seen in San Diego waters, especially in La Jolla Shores. They are harmless to humans but can be startling.\n4.  **Ocean Conditions (Waves & Tides):** Waves can be powerful, and tides can shift.\n    *   **Shorebreak:** Waves that break directly on the shore can be deceptively strong and can cause injuries if you're knocked over.\n    *   **Tides:** Be aware of incoming tides, especially if you're exploring tide pools or isolated coves, as they can cut off your access back to the main beach.\n    *   **Lifeguards:** Always swim near a lifeguard station and pay attention to any flags or signs they post regarding current conditions.\n5.  **Slippery Rocks/Cliffs:** If you're exploring rocky areas or tide pools, or walking near cliffs (like those in La Jolla or Torrey Pines), be cautious.\n    *   **Danger:** Slipping on wet rocks, falling from cliffs, or being hit by falling rocks.\n    *   **Prevention:** Wear appropriate footwear, stay on marked trails, and do not climb on unstable rocks or cliffs.\n\nEnjoy the beautiful San Diego beaches, but always prioritize your safety!"
          },
          "metadata": {}
        },
        {
          "output_type": "display_data",
          "data": {
            "text/plain": [
              "<IPython.core.display.Markdown object>"
            ],
            "text/markdown": "**OFF TOPIC:** I cannot help with this request."
          },
          "metadata": {}
        }
      ],
      "source": [
        "display(Markdown(f\"**ON TOPIC:** {on_topic_response.text}\"))\n",
        "display(Markdown(f\"**OFF TOPIC:** {off_topic_response.text}\"))"
      ]
    },
    {
      "cell_type": "markdown",
      "metadata": {
        "id": "BPUkURgrYgBr"
      },
      "source": [
        "Let's try another template."
      ]
    },
    {
      "cell_type": "code",
      "execution_count": 20,
      "metadata": {
        "id": "oz-kWAKQYiGi"
      },
      "outputs": [],
      "source": [
        "instructions = \"\"\"\n",
        "     You are an assistant at a library.\n",
        "     Your task is to recommend books to people.\n",
        "     If they do not tell you the genre, assume Horror.\n",
        "\"\"\""
      ]
    },
    {
      "cell_type": "code",
      "execution_count": 21,
      "metadata": {
        "id": "3o5CRjdRaZfU"
      },
      "outputs": [],
      "source": [
        "specified_genre_response = client.models.generate_content(\n",
        "    model=MODEL_ID,\n",
        "    contents=\"Could you recommend me 3 books with hard magic system?\",\n",
        "    config=types.GenerateContentConfig(\n",
        "        system_instruction=instructions\n",
        "  ),\n",
        "\n",
        ")\n",
        "\n",
        "not_specified_genre_response = client.models.generate_content(\n",
        "    model=MODEL_ID,\n",
        "    contents=\"Could you recommend me 2 books?\",\n",
        "    config=types.GenerateContentConfig(\n",
        "        system_instruction=instructions\n",
        "  ),\n",
        "\n",
        ")"
      ]
    },
    {
      "cell_type": "code",
      "execution_count": 22,
      "metadata": {
        "id": "PoDDTXGFm21K",
        "outputId": "f3faf809-b086-4c4b-edf1-3f93e0cc2670",
        "colab": {
          "base_uri": "https://localhost:8080/",
          "height": 497
        }
      },
      "outputs": [
        {
          "output_type": "display_data",
          "data": {
            "text/plain": [
              "<IPython.core.display.Markdown object>"
            ],
            "text/markdown": "**SPECIFIED GENRE:** Certainly! Hard magic systems are a fantastic way to build rich and logical fantasy worlds. Here are three books known for their incredibly well-defined and detailed magic:\n\n1.  **Mistborn: The Final Empire** by Brandon Sanderson\n    *   **Why it fits:** Brandon Sanderson is practically synonymous with hard magic systems, and *Mistborn* is a prime example. Its magic system, Allomancy, involves ingesting and \"burning\" different metals to gain specific powers. The rules are clear, the limitations are present, and the magic feels almost like a science within the world. You learn how it works alongside the characters, and its applications and counters are meticulously explored.\n\n2.  **Unsouled** by Will Wight (Cradle series)\n    *   **Why it fits:** The magic system in *Cradle* is known as the \"Sacred Arts,\" and it's built on a foundation of cultivating vital aura, manipulating madra, and developing specific \"Paths\" with unique techniques. It's a progression fantasy, so the magic is very systematically learned and improved, with clear tiers, methods, and consequences. The internal logic is incredibly strong, and you understand exactly why characters can do what they do.\n\n3.  **The Black Prism** by Brent Weeks (Lightbringer series)\n    *   **Why it fits:** The magic in *Lightbringer* revolves around \"Drafting\" luxin, which is solidified light of different colors. Each color has distinct properties, and there are strict rules about how much one can draft, the dangers of over-drafting, and the consequences of \"breaking the halo.\" The system is intricate, with different abilities tied to different colors, and it's integral to the political and social structure of the world."
          },
          "metadata": {}
        },
        {
          "output_type": "display_data",
          "data": {
            "text/plain": [
              "<IPython.core.display.Markdown object>"
            ],
            "text/markdown": "**NOT SPECIFIED GENRE:** Certainly! Since you didn't specify a genre, I'll recommend two excellent horror novels for you:\n\n1.  **\"The Haunting of Hill House\" by Shirley Jackson:** This is a classic for a reason. It's a masterclass in psychological horror, focusing on a small group of people invited to stay in an old, notoriously haunted mansion. The terror comes not just from the house, but from the slow unraveling of the characters' minds. It's incredibly atmospheric and unsettling.\n2.  **\"Mexican Gothic\" by Silvia Moreno-Garcia:** If you enjoy atmospheric, unsettling stories with a touch of the macabre, this is a fantastic choice. It follows a glamorous socialite who travels to a remote, decaying mansion in the Mexican countryside after receiving a disturbing letter from her newlywed cousin. It blends classic gothic horror tropes with a unique historical and cultural setting.\n\nEnjoy your reads!"
          },
          "metadata": {}
        }
      ],
      "source": [
        "display(Markdown(f\"**SPECIFIED GENRE:** {specified_genre_response.text}\"))\n",
        "display(Markdown(f\"**NOT SPECIFIED GENRE:** {not_specified_genre_response.text}\"))"
      ]
    },
    {
      "cell_type": "markdown",
      "metadata": {
        "id": "8mzHkChy_5Ec"
      },
      "source": [
        "## Next steps\n",
        "\n",
        "Be sure to explore other examples of prompting in the repository. Try writing prompts about classifying your own data, or try some of the other prompting techniques such as few-shot prompting."
      ]
    }
  ],
  "metadata": {
    "colab": {
      "name": "Providing_base_cases.ipynb",
      "provenance": []
    },
    "kernelspec": {
      "display_name": "Python 3",
      "name": "python3"
    }
  },
  "nbformat": 4,
  "nbformat_minor": 0
}