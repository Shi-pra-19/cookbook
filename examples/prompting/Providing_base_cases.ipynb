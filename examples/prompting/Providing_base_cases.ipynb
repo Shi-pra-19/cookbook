{
  "cells": [
    {
      "cell_type": "markdown",
      "metadata": {
        "id": "gy3KpnNx_Jl4"
      },
      "source": [
        "##### Copyright 2025 Google LLC."
      ]
    },
    {
      "cell_type": "code",
      "execution_count": null,
      "metadata": {
        "cellView": "form",
        "id": "fKqk8LWo_TCU"
      },
      "outputs": [],
      "source": [
        "# @title Licensed under the Apache License, Version 2.0 (the \"License\");\n",
        "# you may not use this file except in compliance with the License.\n",
        "# You may obtain a copy of the License at\n",
        "#\n",
        "# https://www.apache.org/licenses/LICENSE-2.0\n",
        "#\n",
        "# Unless required by applicable law or agreed to in writing, software\n",
        "# distributed under the License is distributed on an \"AS IS\" BASIS,\n",
        "# WITHOUT WARRANTIES OR CONDITIONS OF ANY KIND, either express or implied.\n",
        "# See the License for the specific language governing permissions and\n",
        "# limitations under the License."
      ]
    },
    {
      "cell_type": "markdown",
      "metadata": {
        "id": "sP8PQnz1QrcF"
      },
      "source": [
        "# Gemini API: Providing base cases"
      ]
    },
    {
      "cell_type": "markdown",
      "metadata": {
        "id": "bxGr_x3MRA0z"
      },
      "source": [
        "<a target=\"_blank\" href=\"https://colab.research.google.com/github/google-gemini/cookbook/blob/main/examples/prompting/Providing_base_cases.ipynb\"><img src=\"https://colab.research.google.com/assets/colab-badge.svg\" height=30/>"
      ]
    },
    {
      "cell_type": "markdown",
      "metadata": {
        "id": "ysy--KfNRrCq"
      },
      "source": [
        "LLMs require specific instructions to provide the expected results. Because of this, it is vital to ensure that the model knows how it should behave when it lacks information or when it should not answer a given query and provide a default response instead."
      ]
    },
    {
      "cell_type": "code",
      "execution_count": null,
      "metadata": {
        "id": "Ne-3gnXqR0hI",
        "colab": {
          "base_uri": "https://localhost:8080/"
        },
        "outputId": "222daa1d-672c-4b0b-b7d4-2b5fb3a3aa05"
      },
      "outputs": [
        {
          "output_type": "stream",
          "name": "stdout",
          "text": [
            "\u001b[?25l   \u001b[90m━━━━━━━━━━━━━━━━━━━━━━━━━━━━━━━━━━━━━━━━\u001b[0m \u001b[32m0.0/149.6 kB\u001b[0m \u001b[31m?\u001b[0m eta \u001b[36m-:--:--\u001b[0m\r\u001b[2K   \u001b[90m━━━━━━━━━━━━━━━━━━━━━━━━━━━━━━━━━━━━━━━━\u001b[0m \u001b[32m149.6/149.6 kB\u001b[0m \u001b[31m4.4 MB/s\u001b[0m eta \u001b[36m0:00:00\u001b[0m\n",
            "\u001b[?25h"
          ]
        }
      ],
      "source": [
        "%pip install -U -q \"google-genai>=1.7.0\""
      ]
    },
    {
      "cell_type": "code",
      "execution_count": null,
      "metadata": {
        "id": "EconMHePQHGw"
      },
      "outputs": [],
      "source": [
        "from google import genai\n",
        "from google.genai import types"
      ]
    },
    {
      "cell_type": "markdown",
      "metadata": {
        "id": "eomJzCa6lb90"
      },
      "source": [
        "## Configure your API key\n",
        "\n",
        "To run the following cell, your API key must be stored it in a Colab Secret named `GOOGLE_API_KEY`. If you don't already have an API key, or you're not sure how to create a Colab Secret, see [Authentication](https://github.com/google-gemini/cookbook/blob/main/quickstarts/Authentication.ipynb) for an example."
      ]
    },
    {
      "cell_type": "code",
      "execution_count": null,
      "metadata": {
        "id": "v-JZzORUpVR2"
      },
      "outputs": [],
      "source": [
        "from google.colab import userdata\n",
        "GOOGLE_API_KEY=userdata.get('GOOGLE_API_KEY')\n",
        "\n",
        "client = genai.Client(api_key=GOOGLE_API_KEY)"
      ]
    },
    {
      "cell_type": "markdown",
      "metadata": {
        "id": "FMne_rcZmz1X"
      },
      "source": [
        "## Examples"
      ]
    },
    {
      "cell_type": "markdown",
      "metadata": {
        "id": "0pZ-S0f8_mbQ"
      },
      "source": [
        "Let's go ahead and define the model, as well as give the model a template for how it should answer the question."
      ]
    },
    {
      "cell_type": "code",
      "execution_count": null,
      "metadata": {
        "id": "O_q8ak-BU9kJ"
      },
      "outputs": [],
      "source": [
        "instructions = \"\"\"\n",
        "You are an assistant that helps tourists around the world to plan their vacation. Your responsibilities are:\n",
        "1. Helping book the hotel.\n",
        "2. Recommending restaurants.\n",
        "3. Warning about potential dangers.\n",
        "\n",
        "If other request is asked return \"I cannot help with this request.\"\n",
        "\"\"\""
      ]
    },
    {
      "cell_type": "code",
      "execution_count": 15,
      "metadata": {
        "id": "8oS9LnnXXedG"
      },
      "outputs": [],
      "source": [
        "MODEL_ID=\"gemini-2.0-flash\" # @param [\"gemini-2.0-flash-lite\",\"gemini-2.0-flash\",\"gemini-2.5-pro-exp-03-25\"] {\"allow-input\":true, isTemplate: true}\n",
        "\n",
        "on_topic_response = client.models.generate_content(\n",
        "    model=MODEL_ID,\n",
        "    contents=\"What should I look out for when I'm going to the beaches in San Diego?\",\n",
        "    config=types.GenerateContentConfig(\n",
        "        system_instruction=instructions\n",
        "  ),\n",
        "\n",
        ")\n",
        "\n",
        "off_topic_response = client.models.generate_content(\n",
        "    model=MODEL_ID,\n",
        "    contents=\"What bowling places do you recommend in Moscow?\",\n",
        "    config=types.GenerateContentConfig(\n",
        "        system_instruction=instructions\n",
        "  ),\n",
        "\n",
        ")"
      ]
    },
    {
      "cell_type": "code",
      "execution_count": 16,
      "metadata": {
        "id": "1k6LyJQYm1KM",
        "outputId": "f7d966f8-8f7c-45d8-fb08-edddca11b41e",
        "colab": {
          "base_uri": "https://localhost:8080/"
        }
      },
      "outputs": [
        {
          "output_type": "stream",
          "name": "stdout",
          "text": [
            "ON TOPIC: When visiting the beaches in San Diego, here are a few things to be aware of to ensure a safe and enjoyable trip:\n",
            "\n",
            "*   **Strong Rip Currents:** San Diego beaches can have strong rip currents, which are powerful channels of water flowing away from the shore. These can be dangerous for swimmers.\n",
            "    *   **How to identify:** Look for areas of darker, calmer water with fewer waves, or a channel of choppy, discolored water.\n",
            "    *   **What to do:** If caught in a rip current, don't panic. Swim parallel to the shore until you're out of the current, then swim back to the beach.\n",
            "*   **Sun Safety:** The California sun can be intense, even on cloudy days.\n",
            "    *   **Protection:** Wear sunscreen with a high SPF, a hat, and sunglasses. Reapply sunscreen regularly, especially after swimming.\n",
            "    *   **Timing:** Try to avoid being in the sun during peak hours (usually between 10 am and 4 pm).\n",
            "*   **Marine Life:** While generally safe, be aware of the local marine life.\n",
            "    *   **Jellyfish and Stingrays:** Shuffle your feet when entering the water to avoid stepping on stingrays. Jellyfish can sometimes wash up on shore.\n",
            "    *   **Seals and Sea Lions:** Keep a safe distance from seals and sea lions. They are wild animals and can bite if they feel threatened.\n",
            "*   **Water Quality:** Check for any water quality advisories before swimming.\n",
            "    *   **Rainfall:** Avoid swimming for at least 72 hours after rainfall, as runoff can contaminate the water.\n",
            "*   **Theft:** Be aware of your belongings, especially on crowded beaches.\n",
            "    *   **Security:** Don't leave valuables unattended. Keep your belongings in sight or use a portable safe.\n",
            "*   **Parking:** Parking can be challenging, especially during peak season.\n",
            "    *   **Planning:** Arrive early or consider using public transportation or ride-sharing services.\n",
            "    *   **Regulations:** Pay attention to parking signs and regulations to avoid tickets.\n",
            "*   **Hydration:** It's easy to become dehydrated in the sun and heat.\n",
            "    *   **Drinking Water:** Bring plenty of water and drink it regularly.\n",
            "*   **Tides:** Be aware of the tides, as they can change quickly.\n",
            "    *   **Safety:** Avoid walking too far out during low tide, as you could get trapped when the tide comes in.\n",
            "*   **Regulations:** Many beaches have specific regulations about alcohol, glass containers, and dogs. Familiarize yourself with these rules to avoid fines.\n",
            "\n",
            "\n",
            "OFF TOPIC: I cannot help with this request.\n",
            "\n"
          ]
        }
      ],
      "source": [
        "print(\"ON TOPIC:\", on_topic_response.text)\n",
        "print(\"OFF TOPIC:\", off_topic_response.text)"
      ]
    },
    {
      "cell_type": "markdown",
      "metadata": {
        "id": "BPUkURgrYgBr"
      },
      "source": [
        "Let's try another template."
      ]
    },
    {
      "cell_type": "code",
      "execution_count": 33,
      "metadata": {
        "id": "oz-kWAKQYiGi"
      },
      "outputs": [],
      "source": [
        "instructions = \"\"\"\n",
        "You are an assistant at a library. Your task is to recommend books to people, if they do not tell you the genre assume Horror.\n",
        "\"\"\""
      ]
    },
    {
      "cell_type": "code",
      "execution_count": 38,
      "metadata": {
        "id": "3o5CRjdRaZfU"
      },
      "outputs": [],
      "source": [
        "specified_genre_response = client.models.generate_content(\n",
        "    model=MODEL_ID,\n",
        "    contents=\"Could you recommend me 3 books with hard magic system?\",\n",
        "    config=types.GenerateContentConfig(\n",
        "        system_instruction=instructions\n",
        "  ),\n",
        "\n",
        ")\n",
        "\n",
        "not_specified_genre_response = client.models.generate_content(\n",
        "    model=MODEL_ID,\n",
        "    contents=\"Could you recommend me 2 books?\",\n",
        "    config=types.GenerateContentConfig(\n",
        "        system_instruction=instructions\n",
        "  ),\n",
        "\n",
        ")"
      ]
    },
    {
      "cell_type": "code",
      "execution_count": 37,
      "metadata": {
        "id": "PoDDTXGFm21K",
        "outputId": "4a68525d-366b-46ea-916d-21599e63fa52",
        "colab": {
          "base_uri": "https://localhost:8080/"
        }
      },
      "outputs": [
        {
          "output_type": "stream",
          "name": "stdout",
          "text": [
            "## Specified genre:\n",
            "\n",
            "\n",
            "Okay, I can definitely help with that! Here are 3 books that heavily feature a hard magic system, where the rules and limitations are well-defined and play a central role in the plot:\n",
            "\n",
            "1.  **\"Mistborn: The Final Empire\" by Brandon Sanderson:** This is a classic example of a hard magic system. The Allomancy in this world has a set of specific metals that characters can ingest and \"burn\" to gain certain powers. The rules are clearly defined, and the plot relies heavily on characters understanding and exploiting the limitations and possibilities of Allomancy.\n",
            "\n",
            "2.  **\"Powder Mage Trilogy\" by Brian McClellan:** This series features a world where some individuals can use gunpowder to fuel their magical abilities. The magic system is tightly tied to the technology of the setting, creating a unique blend of fantasy and military strategy. The rules around powder mages, privileged, and knacks are all well-defined.\n",
            "\n",
            "3.  **\"Mother of Learning\" by Domagoj Kurmaić:** This book has a time loop premise. Zorian, the protagonist, is stuck in a time loop of one month, and is forced to go to magic school. The magic system is very hard, with limitations and is a core focus of the plot, since the protagonist spends most of the time exploring magic.\n",
            "\n",
            "I hope you enjoy these recommendations! If you have any other preferences or want more suggestions, feel free to ask!\n",
            "\n",
            "## Not specified genre:\n",
            "\n",
            "\n",
            "Okay, I can definitely recommend two horror books for you. To give you the best recommendations, could you tell me what kind of horror you typically enjoy? For example, do you prefer:\n",
            "\n",
            "*   **Classic horror** (like Dracula or Frankenstein)?\n",
            "*   **Supernatural horror** (ghosts, demons, etc.)?\n",
            "*   **Psychological horror** (disturbing and unsettling)?\n",
            "*   **Slasher/Gore horror** (more graphic violence)?\n",
            "*   **Cosmic horror** (existential dread and unknown entities)?\n",
            "\n",
            "In the meantime, I'll give you two general recommendations that are pretty well-regarded within the horror genre and see if they catch your interest:\n",
            "\n",
            "1.  **\"The Haunting of Hill House\" by Shirley Jackson:** This is a classic of psychological horror. It follows a group of people investigating a house with a disturbing history, and it's more about atmosphere and unsettling feelings than jump scares.\n",
            "\n",
            "2.  **\"IT\" by Stephen King:** A classic in its own right, this one is a longer read and involves a terrifying clown terrorizing a group of kids, and then their adult selves. It covers a lot of different themes and is considered one of King's best.\n",
            "\n",
            "Let me know what you think of these, and tell me a bit more about your preferences, and I can tailor the recommendations further!\n",
            "\n"
          ]
        }
      ],
      "source": [
        "print('''## Specified genre:\n",
        "\n",
        "''', specified_genre_response.text, sep=\"\\n\")\n",
        "print('''## Not specified genre:\n",
        "\n",
        "''', not_specified_genre_response.text, sep=\"\\n\")"
      ]
    },
    {
      "cell_type": "markdown",
      "metadata": {
        "id": "8mzHkChy_5Ec"
      },
      "source": [
        "## Next steps\n",
        "\n",
        "Be sure to explore other examples of prompting in the repository. Try writing prompts about classifying your own data, or try some of the other prompting techniques such as few-shot prompting."
      ]
    }
  ],
  "metadata": {
    "colab": {
      "provenance": []
    },
    "kernelspec": {
      "display_name": "Python 3",
      "name": "python3"
    }
  },
  "nbformat": 4,
  "nbformat_minor": 0
}