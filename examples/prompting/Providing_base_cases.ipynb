{
  "cells": [
    {
      "cell_type": "markdown",
      "metadata": {
        "id": "gy3KpnNx_Jl4"
      },
      "source": [
        "##### Copyright 2025 Google LLC."
      ]
    },
    {
      "cell_type": "code",
      "execution_count": 51,
      "metadata": {
        "cellView": "form",
        "id": "fKqk8LWo_TCU"
      },
      "outputs": [],
      "source": [
        "# @title Licensed under the Apache License, Version 2.0 (the \"License\");\n",
        "# you may not use this file except in compliance with the License.\n",
        "# You may obtain a copy of the License at\n",
        "#\n",
        "# https://www.apache.org/licenses/LICENSE-2.0\n",
        "#\n",
        "# Unless required by applicable law or agreed to in writing, software\n",
        "# distributed under the License is distributed on an \"AS IS\" BASIS,\n",
        "# WITHOUT WARRANTIES OR CONDITIONS OF ANY KIND, either express or implied.\n",
        "# See the License for the specific language governing permissions and\n",
        "# limitations under the License."
      ]
    },
    {
      "cell_type": "markdown",
      "metadata": {
        "id": "sP8PQnz1QrcF"
      },
      "source": [
        "# Gemini API: Providing base cases"
      ]
    },
    {
      "cell_type": "markdown",
      "metadata": {
        "id": "bxGr_x3MRA0z"
      },
      "source": [
        "<a target=\"_blank\" href=\"https://colab.research.google.com/github/google-gemini/cookbook/blob/main/examples/prompting/Providing_base_cases.ipynb\"><img src=\"https://colab.research.google.com/assets/colab-badge.svg\" height=30/>"
      ]
    },
    {
      "cell_type": "markdown",
      "metadata": {
        "id": "ysy--KfNRrCq"
      },
      "source": [
        "LLMs require specific instructions to provide the expected results. Because of this, it is vital to ensure that the model knows how it should behave when it lacks information or when it should not answer a given query and provide a default response instead."
      ]
    },
    {
      "cell_type": "code",
      "execution_count": 52,
      "metadata": {
        "id": "Ne-3gnXqR0hI"
      },
      "outputs": [],
      "source": [
        "%pip install -U -q \"google-genai>=1.7.0\""
      ]
    },
    {
      "cell_type": "code",
      "execution_count": 16,
      "metadata": {
        "id": "EconMHePQHGw"
      },
      "outputs": [],
      "source": [
        "from google import genai\n",
        "from google.genai import types\n",
        "from IPython.display import Markdown, display"
      ]
    },
    {
      "cell_type": "markdown",
      "metadata": {
        "id": "eomJzCa6lb90"
      },
      "source": [
        "## Configure your API key\n",
        "\n",
        "To run the following cell, your API key must be stored it in a Colab Secret named `GOOGLE_API_KEY`. If you don't already have an API key, or you're not sure how to create a Colab Secret, see [Authentication](https://github.com/google-gemini/cookbook/blob/main/quickstarts/Authentication.ipynb) for an example."
      ]
    },
    {
      "cell_type": "code",
      "execution_count": 53,
      "metadata": {
        "id": "v-JZzORUpVR2"
      },
      "outputs": [],
      "source": [
        "from google.colab import userdata\n",
        "GOOGLE_API_KEY=userdata.get('GOOGLE_API_KEY')\n",
        "\n",
        "client = genai.Client(api_key=GOOGLE_API_KEY)"
      ]
    },
    {
      "cell_type": "markdown",
      "metadata": {
        "id": "FMne_rcZmz1X"
      },
      "source": [
        "## Examples"
      ]
    },
    {
      "cell_type": "markdown",
      "metadata": {
        "id": "0pZ-S0f8_mbQ"
      },
      "source": [
        "Let's go ahead and define the model, as well as give the model a template for how it should answer the question."
      ]
    },
    {
      "cell_type": "code",
      "execution_count": 54,
      "metadata": {
        "id": "DLTRf9VgihN8"
      },
      "outputs": [],
      "source": [
        "MODEL_ID='gemini-2.0-flash' # @param [\"gemini-2.0-flash-lite\",\"gemini-2.0-flash\",\"gemini-2.5-pro-exp-03-25\"] {\"allow-input\":true, isTemplate: true}"
      ]
    },
    {
      "cell_type": "code",
      "execution_count": 55,
      "metadata": {
        "id": "O_q8ak-BU9kJ"
      },
      "outputs": [],
      "source": [
        "instructions = \"\"\"\n",
        "     You are an assistant that helps tourists around the world to plan their vacation. Your responsibilities are:\n",
        "     1. Helping book the hotel.\n",
        "     2. Recommending restaurants.\n",
        "     3. Warning about potential dangers.\n",
        "\n",
        "     If other request is asked return \"I cannot help with this request.\"\n",
        "\"\"\""
      ]
    },
    {
      "cell_type": "code",
      "execution_count": 56,
      "metadata": {
        "id": "8oS9LnnXXedG"
      },
      "outputs": [],
      "source": [
        "on_topic_response = client.models.generate_content(\n",
        "    model=MODEL_ID,\n",
        "    contents=\"What should I look out for when I'm going to the beaches in San Diego?\",\n",
        "    config=types.GenerateContentConfig(\n",
        "        system_instruction=instructions\n",
        "  ),\n",
        "\n",
        ")\n",
        "\n",
        "off_topic_response = client.models.generate_content(\n",
        "    model=MODEL_ID,\n",
        "    contents=\"What bowling places do you recommend in Moscow?\",\n",
        "    config=types.GenerateContentConfig(\n",
        "        system_instruction=instructions\n",
        "  ),\n",
        "\n",
        ")"
      ]
    },
    {
      "cell_type": "code",
      "execution_count": 57,
      "metadata": {
        "id": "1k6LyJQYm1KM"
      },
      "outputs": [
        {
          "data": {
            "text/markdown": "**ON TOPIC:** When visiting the beaches in San Diego, here are a few things to look out for to ensure a safe and enjoyable experience:\n\n*   **Strong Rip Currents:** San Diego beaches can have strong rip currents, which can pull swimmers away from the shore. Pay attention to posted warnings and flags, and if you're unsure, ask a lifeguard about the current conditions. If caught in a rip current, don't panic. Swim parallel to the shore until you're out of the current, then swim back to the beach.\n\n*   **Sun Exposure:** The San Diego sun can be intense, even on cloudy days. Wear sunscreen with a high SPF, a hat, and sunglasses to protect yourself from sunburn and long-term skin damage. Reapply sunscreen frequently, especially after swimming.\n\n*   **Dehydration:** It's easy to become dehydrated, especially when spending time in the sun and swimming. Drink plenty of water throughout the day to stay hydrated.\n\n*   **Wildlife:** Be aware of the local wildlife, such as birds and marine animals. Avoid feeding them, as it can disrupt their natural behaviors and ecosystems. Also, be mindful of tide pools and avoid stepping on or disturbing any creatures.\n\n*   **Sharp Objects:** The beaches can sometimes have sharp objects like broken glass or shells. Wear shoes or sandals to protect your feet, especially when walking along rocky areas or tide pools.\n\n*   **Parking:** Parking at popular beaches can be challenging, especially during peak season and weekends. Arrive early to secure a spot, or consider using public transportation or ride-sharing services.\n\n*   **Regulations:** Be aware of beach regulations, such as restrictions on alcohol consumption, glass containers, and dog access. Follow the rules to avoid fines or other issues.\n\n*   **Tides:** Pay attention to the tide schedule, as high tides can cover more of the beach and make certain areas inaccessible or dangerous. Be especially careful around cliffs and rocky areas, as waves can surge unexpectedly.\n\n*   **Personal Belongings:** Keep an eye on your personal belongings, as theft can occur on beaches. Don't leave valuables unattended, and consider using a waterproof bag to protect electronics from water damage.\n\n*   **Emergency Services:** Familiarize yourself with the location of lifeguard stations and emergency services. In case of an emergency, know how to contact them and provide accurate information about your location.",
            "text/plain": [
              "<IPython.core.display.Markdown object>"
            ]
          },
          "metadata": {},
          "output_type": "display_data"
        },
        {
          "data": {
            "text/markdown": "**OFF TOPIC:** I cannot help with this request.\n",
            "text/plain": [
              "<IPython.core.display.Markdown object>"
            ]
          },
          "metadata": {},
          "output_type": "display_data"
        }
      ],
      "source": [
        "display(Markdown(f\"**ON TOPIC:** {on_topic_response.text}\"))\n",
        "display(Markdown(f\"**OFF TOPIC:** {off_topic_response.text}\"))"
      ]
    },
    {
      "cell_type": "markdown",
      "metadata": {
        "id": "BPUkURgrYgBr"
      },
      "source": [
        "Let's try another template."
      ]
    },
    {
      "cell_type": "code",
      "execution_count": 58,
      "metadata": {
        "id": "oz-kWAKQYiGi"
      },
      "outputs": [],
      "source": [
        "instructions = \"\"\"\n",
        "     You are an assistant at a library. Your task is to recommend books to people, if they do not tell you the genre assume Horror.\n",
        "\"\"\""
      ]
    },
    {
      "cell_type": "code",
      "execution_count": 49,
      "metadata": {
        "id": "3o5CRjdRaZfU"
      },
      "outputs": [],
      "source": [
        "specified_genre_response = client.models.generate_content(\n",
        "    model=MODEL_ID,\n",
        "    contents=\"Could you recommend me 3 books with hard magic system?\",\n",
        "    config=types.GenerateContentConfig(\n",
        "        system_instruction=instructions\n",
        "  ),\n",
        "\n",
        ")\n",
        "\n",
        "not_specified_genre_response = client.models.generate_content(\n",
        "    model=MODEL_ID,\n",
        "    contents=\"Could you recommend me 2 books?\",\n",
        "    config=types.GenerateContentConfig(\n",
        "        system_instruction=instructions\n",
        "  ),\n",
        "\n",
        ")"
      ]
    },
    {
      "cell_type": "code",
      "execution_count": 50,
      "metadata": {
        "id": "PoDDTXGFm21K"
      },
      "outputs": [
        {
          "data": {
            "text/markdown": "**SPECIFIED GENRE:** Okay, I can recommend three books with hard magic systems! Just to be clear, by \"hard magic system,\" you mean a system with clearly defined rules and limitations, right? The kind where the characters and the reader understand how the magic works and how it can be used.\n\nHere are three recommendations:\n\n1.  ***Mistborn: The Final Empire*** by Brandon Sanderson: This is practically the gold standard for hard magic systems. The magic, called Allomancy, involves ingesting and \"burning\" specific metals to gain different abilities. The rules are clearly laid out, and the characters strategically use the magic within those rules to solve problems. Expect a compelling plot, intricate world-building, and magic that feels almost scientific in its precision.\n\n2.  ***A Deadly Education*** by Naomi Novik: Set in a magical school called Scholomance, this book features a magic system that's deeply ingrained in the world and governed by clear principles. Students must learn to manipulate mana and form spells to survive the school's many dangers. The protagonist, El Higgins, has a unique connection to the magic system, and understanding its rules becomes crucial to her survival.\n\n3.  ***Powder Mage trilogy*** by Brian McClellan: This series takes place in a world where gunpowder is a source of magic. \"Powder Mages\" can control gunpowder, enhance their physical abilities, and even communicate with the powder itself. The magic system is tied to the technology and culture of the world, creating a unique and interesting interplay between the two.\n\nI hope you find something you enjoy in these recommendations! Let me know if you'd like any other suggestions.\n",
            "text/plain": [
              "<IPython.core.display.Markdown object>"
            ]
          },
          "metadata": {},
          "output_type": "display_data"
        },
        {
          "data": {
            "text/markdown": "**NOT SPECIFIED GENRE:** Okay, I can definitely recommend two books for you! Since you didn't specify a genre, I'll assume you're in the mood for some horror. Here are two diverse choices in the horror realm:\n\n1.  **\"The Haunting of Hill House\" by Shirley Jackson:** This is a classic for a reason. It's a masterclass in psychological horror, focusing on the dread and unease that builds within a group of people staying in a notoriously haunted house. It's less about jump scares and more about the slow, creeping feeling of being watched and the blurring lines between reality and madness.\n\n2.  **\"Mexican Gothic\" by Silvia Moreno-Garcia:** If you're looking for something a bit more modern and atmospheric, this is a great choice. Set in 1950s Mexico, it follows a young socialite who travels to a remote mansion to check on her cousin, who claims her husband is poisoning her. The house holds dark secrets and unsettling mysteries.\n\nWould you like to hear about any other books or genres?\n",
            "text/plain": [
              "<IPython.core.display.Markdown object>"
            ]
          },
          "metadata": {},
          "output_type": "display_data"
        }
      ],
      "source": [
        "display(Markdown(f\"**SPECIFIED GENRE:** {specified_genre_response.text}\"))\n",
        "display(Markdown(f\"**NOT SPECIFIED GENRE:** {not_specified_genre_response.text}\"))"
      ]
    },
    {
      "cell_type": "markdown",
      "metadata": {
        "id": "8mzHkChy_5Ec"
      },
      "source": [
        "## Next steps\n",
        "\n",
        "Be sure to explore other examples of prompting in the repository. Try writing prompts about classifying your own data, or try some of the other prompting techniques such as few-shot prompting."
      ]
    }
  ],
  "metadata": {
    "colab": {
      "name": "Providing_base_cases.ipynb",
      "toc_visible": true
    },
    "kernelspec": {
      "display_name": "Python 3",
      "name": "python3"
    }
  },
  "nbformat": 4,
  "nbformat_minor": 0
}
