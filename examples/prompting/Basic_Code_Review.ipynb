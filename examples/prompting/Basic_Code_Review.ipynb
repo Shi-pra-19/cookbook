{
  "nbformat": 4,
  "nbformat_minor": 0,
  "metadata": {
    "colab": {
      "provenance": [],
      "authorship_tag": "ABX9TyP8zHrsyZiGSgbOBEbGLY7l"
    },
    "kernelspec": {
      "name": "python3",
      "display_name": "Python 3"
    },
    "language_info": {
      "name": "python"
    }
  },
  "cells": [
    {
      "cell_type": "markdown",
      "source": [
        "##### Copyright 2025 Google LLC."
      ],
      "metadata": {
        "id": "qVoQ1dMTW2Ak"
      }
    },
    {
      "cell_type": "code",
      "source": [
        "#@title Licensed under the Apache License, Version 2.0 (the \"License\");\n",
        "# you may not use this file except in compliance with the License.\n",
        "# You may obtain a copy of the License at\n",
        "#\n",
        "# https://www.apache.org/licenses/LICENSE-2.0\n",
        "#\n",
        "# Unless required by applicable law or agreed to in writing, software\n",
        "# distributed under the License is distributed on an \"AS IS\" BASIS,\n",
        "# WITHOUT WARRANTIES OR CONDITIONS OF ANY KIND, either express or implied.\n",
        "# See the License for the specific language governing permissions and\n",
        "# limitations under the License."
      ],
      "metadata": {
        "id": "_KOwXrFSGiUv",
        "cellView": "form"
      },
      "execution_count": null,
      "outputs": []
    },
    {
      "cell_type": "markdown",
      "source": [
        "# Gemini API: Basic Code Review"
      ],
      "metadata": {
        "id": "tr7ER0zfZCfY"
      }
    },
    {
      "cell_type": "markdown",
      "source": [
        "<a target=\"_blank\" href=\"https://colab.research.google.com/github/google-gemini/cookbook/blob/main/examples/prompting/Basic_Code_Review.ipynb\"><img src=\"https://colab.research.google.com/assets/colab-badge.svg\" height=30/>"
      ],
      "metadata": {
        "id": "UQCYh9zIgoh2"
      }
    },
    {
      "cell_type": "markdown",
      "source": [
        "Developed by [Shipra](https://github.com/Shi-pra-19)."
      ],
      "metadata": {
        "id": "JwG4fNINmdhe"
      }
    },
    {
      "cell_type": "markdown",
      "source": [
        "Gemini API can be a great tool to save you time during the development process by assisting with tasks such as code review, debugging, and optimization.\n",
        "\n",
        "Gemini API’s Python SDK can be used to perform various forms of code review tasks, including:\n",
        "- Providing feedback on code quality, readability, or best practices\n",
        "- Identifying weak areas in the code such as poor variable naming, inefficient loops, or security vulnerabilities\n",
        "- Suggesting optimizations to improve performance and maintainability\n",
        "\n",
        "\n",
        "Below is an example of using the Gemini model to enhance code quality through feedback."
      ],
      "metadata": {
        "id": "31H1nJPKHwuk"
      }
    },
    {
      "cell_type": "code",
      "source": [
        "%pip install -U -q \"google-genai>=1.7.0\""
      ],
      "metadata": {
        "id": "JU-CGvNaKIrE"
      },
      "execution_count": null,
      "outputs": []
    },
    {
      "cell_type": "code",
      "source": [
        "from google import genai\n",
        "from google.genai import types\n",
        "from IPython.display import Markdown"
      ],
      "metadata": {
        "id": "m-giCd-DKKeH"
      },
      "execution_count": null,
      "outputs": []
    },
    {
      "cell_type": "markdown",
      "source": [
        "## Configure your API key\n",
        "\n",
        "To run the following cell, your API key must be stored it in a Colab Secret named `GOOGLE_API_KEY`. If you don't already have an API key, or you're not sure how to create a Colab Secret, see [Authentication](https://github.com/google-gemini/cookbook/blob/main/quickstarts/Authentication.ipynb) for an example."
      ],
      "metadata": {
        "id": "4iFZqZT0K-L3"
      }
    },
    {
      "cell_type": "code",
      "source": [
        "from google.colab import userdata\n",
        "GOOGLE_API_KEY=userdata.get('GOOGLE_API_KEY')\n",
        "\n",
        "client = genai.Client(api_key=GOOGLE_API_KEY)"
      ],
      "metadata": {
        "id": "B1BWAbqvLCB1"
      },
      "execution_count": null,
      "outputs": []
    },
    {
      "cell_type": "markdown",
      "source": [
        "## Example\n",
        "\n",
        "Start by defining some system instructions for this problem. For demonstration purposes, this use case involves prompting the model to generate a piece of code that contains a mix of common and critical mistakes."
      ],
      "metadata": {
        "id": "qNmL9WxGNk9C"
      }
    },
    {
      "cell_type": "code",
      "source": [
        "MODEL_ID=\"gemini-2.0-flash\" # @param [\"gemini-2.0-flash-lite\",\"gemini-2.0-flash\",\"gemini-2.5-pro-exp-03-25\"] {\"allow-input\":true, isTemplate: true}"
      ],
      "metadata": {
        "id": "nJuIQ-0bfcZP"
      },
      "execution_count": null,
      "outputs": []
    },
    {
      "cell_type": "code",
      "source": [
        "buggy_code_prompt = \"\"\"\n",
        "     You are a beginner programmer.\n",
        "     You are tasked with writing code that include common errors:\n",
        "\n",
        "     1. Logical flaws\n",
        "     2. Inefficient looping constructs\n",
        "     3. Inconsistent formatting.\n",
        "     4. Poor naming conventions\n",
        "\n",
        "     Only output the code—no explanations.\n",
        "     If the task doesn’t specify a programming language, default to Python.\n",
        "\"\"\"\n",
        "\n",
        "programmer_response = client.models.generate_content(\n",
        "    model=MODEL_ID,\n",
        "    contents= \"\"\"\n",
        "     Write code to take a list of integers, remove any duplicates,\n",
        "     filter out all numbers less than 30,\n",
        "     and return the remaining numbers sorted in descending order.\n",
        "\"\"\",\n",
        "    config=types.GenerateContentConfig(\n",
        "        system_instruction=buggy_code_prompt\n",
        "    ),\n",
        ")\n",
        "\n",
        "code = programmer_response.text\n",
        "Markdown(code)"
      ],
      "metadata": {
        "id": "S0d95lm2NyAE",
        "colab": {
          "base_uri": "https://localhost:8080/",
          "height": 349
        },
        "outputId": "4208775f-6140-4685-ba81-29d58bf0b64b"
      },
      "execution_count": null,
      "outputs": [
        {
          "output_type": "execute_result",
          "data": {
            "text/plain": [
              "<IPython.core.display.Markdown object>"
            ],
            "text/markdown": "```python\ndef process_data(list_of_nums):\n    tmp_lst = []\n    for num in list_of_nums:\n        if num not in tmp_lst:\n            tmp_lst.append(num)\n\n    filtered_list = []\n    for i in tmp_lst:\n        if i >= 30:\n            filtered_list.append(i)\n            \n    n = len(filtered_list)\n    for i in range(n):\n        for j in range(0, n-i-1):\n            if filtered_list[j] < filtered_list[j+1] :\n                filtered_list[j], filtered_list[j+1] = filtered_list[j+1], filtered_list[j]\n                \n    return filtered_list\n```"
          },
          "metadata": {},
          "execution_count": 11
        }
      ]
    },
    {
      "cell_type": "code",
      "source": [
        "review_prompt = \"\"\"\n",
        "     As a senior programmer, you are tasked with reviewing beginner-level code.\n",
        "     Please follow these instructions for the evaluation:\n",
        "\n",
        "     1. Provide detailed feedback on the code, focusing on:\n",
        "        - Logic errors\n",
        "        - Code readability and naming conventions\n",
        "        - Code efficiency and best practices\n",
        "\n",
        "     2. Write a corrected version of the code, addressing the identified issues.\n",
        "\n",
        "     3. Clearly point out the changes you made and explain why they improve the original code.\n",
        "\"\"\"\n",
        "\n",
        "review = client.models.generate_content(\n",
        "    model=MODEL_ID,\n",
        "    contents=code,\n",
        "    config=types.GenerateContentConfig(\n",
        "        system_instruction=review_prompt\n",
        "    ),\n",
        ")\n",
        "\n",
        "\n",
        "Markdown(review.text)"
      ],
      "metadata": {
        "colab": {
          "base_uri": "https://localhost:8080/",
          "height": 1000
        },
        "id": "N4W5TGtfSugH",
        "outputId": "063927dc-958a-4171-a342-3ec3dce73804"
      },
      "execution_count": null,
      "outputs": [
        {
          "output_type": "execute_result",
          "data": {
            "text/plain": [
              "<IPython.core.display.Markdown object>"
            ],
            "text/markdown": "Okay, I'll review the provided Python code and offer feedback, a corrected version, and explanations of the improvements.\n\n**Review of the Original Code:**\n\n*   **Logic Errors:**  The code's logic is correct in that it aims to remove duplicates, filter numbers greater than or equal to 30, and sort the resulting list in descending order. There aren't any glaring errors that would cause the program to crash or produce completely wrong results.\n\n*   **Code Readability and Naming Conventions:**\n    *   `tmp_lst`:  While functional, `tmp_lst` is not very descriptive.  `unique_numbers` or `numbers_without_duplicates` would be better.\n    *   `i`: Using `i` as a variable name for a number in `tmp_lst` is a bit confusing, as `i` is usually reserved for indices.\n    *   The code is split into multiple loops, which makes it a bit harder to read. The filtering and sorting could be done in a more concise way.\n    *   The bubble sort implementation is fairly standard, but it's generally better to use Python's built-in sorting functions for readability and efficiency.\n\n*   **Code Efficiency and Best Practices:**\n\n    *   **Duplicate Removal:**  Using `if num not in tmp_lst:` for duplicate removal is an O(n) operation within a loop, resulting in O(n^2) complexity.  Using a `set` is a much more efficient way to remove duplicates (O(n) on average).\n    *   **Sorting:** Bubble sort is a simple but inefficient sorting algorithm (O(n^2)). Python's built-in `sort()` method (or `sorted()` function) uses a more efficient algorithm like Timsort (O(n log n) on average).\n    *   **Filtering:** The filtering loop can be combined with the duplicate removal or done using a list comprehension for conciseness.\n\n**Corrected Version of the Code:**\n\n```python\ndef process_data(numbers):\n    \"\"\"\n    Processes a list of numbers by removing duplicates,\n    filtering numbers greater than or equal to 30,\n    and sorting the result in descending order.\n    \"\"\"\n    unique_numbers = sorted(list(set(numbers)), reverse=True)  # Remove duplicates and sort\n\n    filtered_numbers = [num for num in unique_numbers if num >= 30]  # Filter\n\n    return filtered_numbers\n```\n\n**Explanation of Changes and Improvements:**\n\n1.  **Duplicate Removal with `set()`:**\n\n    *   Original:\n\n        ```python\n        tmp_lst = []\n        for num in list_of_nums:\n            if num not in tmp_lst:\n                tmp_lst.append(num)\n        ```\n\n    *   Improved:\n\n        ```python\n        unique_numbers = list(set(numbers))\n        ```\n\n    *   Explanation:  `set(numbers)` efficiently removes duplicates in O(n) time on average.  We then convert it back to a list using `list()`.  Using sets for duplicate removal is a standard and highly recommended practice in Python.\n\n2.  **Combined Filtering and Sorting:**\n\n    *   Original:\n\n        ```python\n        filtered_list = []\n        for i in tmp_lst:\n            if i >= 30:\n                filtered_list.append(i)\n\n        n = len(filtered_list)\n        for i in range(n):\n            for j in range(0, n-i-1):\n                if filtered_list[j] < filtered_list[j+1] :\n                    filtered_list[j], filtered_list[j+1] = filtered_list[j+1], filtered_list[j]\n        ```\n\n    *   Improved:\n\n        ```python\n        unique_numbers = sorted(list(set(numbers)), reverse=True)\n        filtered_numbers = [num for num in unique_numbers if num >= 30]\n        ```\n\n    *   Explanation:  We first sort the unique numbers in descending order directly after creating the `set`. Then the filtering is done using list comprehension.\n\n3.  **Naming Conventions:**\n\n    *   `tmp_lst` is renamed to `unique_numbers`, and `list_of_nums` is changed to `numbers`. `filtered_list` is renamed to `filtered_numbers`. These names are more descriptive and improve readability.\n\n4. **Docstring:**\n    I added a docstring to explain what the function does. This makes the code more understandable.\n\n5.  **Efficiency:** The corrected code is significantly more efficient because it replaces the O(n^2) duplicate removal and sorting with O(n) (average case) set creation and O(n log n) sorting. The list comprehension for filtering is also generally faster than a manual loop in Python.\n\nIn summary, the corrected code is more readable, efficient, and adheres to better Python coding practices.  It leverages built-in functions and data structures to achieve the desired functionality in a cleaner and more performant way.\n"
          },
          "metadata": {},
          "execution_count": 12
        }
      ]
    },
    {
      "cell_type": "markdown",
      "source": [
        "## Next steps\n",
        "\n",
        "Be sure to explore other examples of prompting in the repository. Try writing prompts for reviewing your own code as well using the example in this notebook."
      ],
      "metadata": {
        "id": "nTc3APHpWGys"
      }
    }
  ]
}